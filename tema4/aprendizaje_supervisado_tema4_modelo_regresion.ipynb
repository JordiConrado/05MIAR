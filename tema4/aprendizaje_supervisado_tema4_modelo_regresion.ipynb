{
  "nbformat": 4,
  "nbformat_minor": 0,
  "metadata": {
    "colab": {
      "provenance": [],
      "authorship_tag": "ABX9TyNkvLbb1jYbkAbbmw2j4dWc",
      "include_colab_link": true
    },
    "kernelspec": {
      "name": "python3",
      "display_name": "Python 3"
    },
    "language_info": {
      "name": "python"
    }
  },
  "cells": [
    {
      "cell_type": "markdown",
      "metadata": {
        "id": "view-in-github",
        "colab_type": "text"
      },
      "source": [
        "<a href=\"https://colab.research.google.com/github/ssanchezgoe/viu_aprendizaje_supervisado/blob/main/tema4/aprendizaje_supervisado_tema4_modelo_regresion.ipynb\" target=\"_parent\"><img src=\"https://colab.research.google.com/assets/colab-badge.svg\" alt=\"Open In Colab\"/></a>"
      ]
    },
    {
      "cell_type": "code",
      "execution_count": null,
      "metadata": {
        "id": "vdQoM_Qq408t"
      },
      "outputs": [],
      "source": [
        "import numpy as np\n",
        "\n",
        "from math import sqrt\n",
        "\n",
        "from pprint import pprint\n",
        "\n",
        "from sklearn import preprocessing\n",
        "from sklearn.model_selection import KFold, cross_validate, cross_val_score\n",
        "from sklearn.metrics import make_scorer, mean_squared_error, mean_absolute_error\n",
        "from sklearn.model_selection import train_test_split\n",
        "from sklearn.linear_model import LinearRegression\n",
        "from sklearn.neighbors import KNeighborsRegressor\n",
        "from sklearn.model_selection import GridSearchCV\n",
        "\n",
        "import pandas as pd\n",
        "import numpy as np\n",
        "\n",
        "import pickle\n",
        "\n",
        "import matplotlib.pyplot as plt"
      ]
    },
    {
      "cell_type": "code",
      "source": [
        "df=pd.read_csv('https://s3-api.us-geo.objectstorage.softlayer.net/cf-courses-data/CognitiveClass/ML0101ENv3/labs/FuelConsumptionCo2.csv')\n",
        "\n",
        "df.dropna(inplace=True)\n",
        "\n",
        "X = df['ENGINESIZE'].values.reshape(-1,1)\n",
        "y = df['CO2EMISSIONS'].values"
      ],
      "metadata": {
        "id": "Qgl04Y825Qk6"
      },
      "execution_count": null,
      "outputs": []
    },
    {
      "cell_type": "code",
      "source": [
        "#plt.scatter(X_test, y_test,  color='black',label=r'datos test')\n",
        "plt.scatter(X, y,  color='red',alpha=0.4,label=r'datos entrenamiento')"
      ],
      "metadata": {
        "id": "SSShBQPII7gL"
      },
      "execution_count": null,
      "outputs": []
    },
    {
      "cell_type": "code",
      "source": [
        "# Dividir 0.2 test y fijar semilla aleatoria\n",
        "X_train, X_test, y_train, y_test = train_test_split(X, y, test_size=0.2, random_state=42)"
      ],
      "metadata": {
        "id": "r2ozvpyG6Lry"
      },
      "execution_count": null,
      "outputs": []
    },
    {
      "cell_type": "code",
      "source": [
        "print(f'Max X_train {X_train.max()}, Min X_train {X_train.min()}')"
      ],
      "metadata": {
        "id": "orGXPAnZ6RDY"
      },
      "execution_count": null,
      "outputs": []
    },
    {
      "cell_type": "code",
      "source": [
        "# Estandarización de los datos de entrenamiento y test\n",
        "std_scaling = preprocessing.StandardScaler()\n",
        "\n",
        "X_train = std_scaling.fit_transform(X_train)\n",
        "X_test = std_scaling.transform(X_test)"
      ],
      "metadata": {
        "id": "VQ7S_nE56dMf"
      },
      "execution_count": null,
      "outputs": []
    },
    {
      "cell_type": "code",
      "source": [
        "print(f'Max X_train {X_train.max()}, Min X_train {X_train.min()}')"
      ],
      "metadata": {
        "id": "dT-WA56h7Ypw"
      },
      "execution_count": null,
      "outputs": []
    },
    {
      "cell_type": "code",
      "source": [
        "# Métricas de evaluación.\n",
        "metricas = {\n",
        "  'MAE': 'neg_mean_absolute_error',\n",
        "  'MSE': 'neg_mean_squared_error',\n",
        "  'R2' : 'r2',\n",
        "  'RMSE': make_scorer(lambda y, y_pred:\n",
        "                      sqrt(mean_squared_error(y, y_pred)),\n",
        "                      greater_is_better=False),\n",
        "  'MAPE': make_scorer(lambda y, y_pred:\n",
        "                      np.mean(np.abs((y - y_pred) / y)) * 100,\n",
        "                      greater_is_better=False)}"
      ],
      "metadata": {
        "id": "GCGU6zgX7b8_"
      },
      "execution_count": null,
      "outputs": []
    },
    {
      "cell_type": "code",
      "source": [
        "# Regresión lineal\n",
        "# Definimos un algoritmo LR de regresión\n",
        "algorithm = LinearRegression(fit_intercept=True)"
      ],
      "metadata": {
        "id": "OyEfTLCz9AfY"
      },
      "execution_count": null,
      "outputs": []
    },
    {
      "cell_type": "code",
      "source": [
        "# Validación y evaluación del modelo.\n",
        "# en \"cv = KFold(n_splits=5)\" se hace un cross-validation INTERNO!!\n",
        "results = cross_validate(algorithm, X_train, y_train, cv = KFold(n_splits=5, shuffle=True, random_state=42), scoring=metricas)\n",
        "# Presentación de los resultados de la evaluación.\n",
        "pprint(results)"
      ],
      "metadata": {
        "id": "pnABRYTY9Sd4"
      },
      "execution_count": null,
      "outputs": []
    },
    {
      "cell_type": "code",
      "source": [
        "# Definimos un algoritmo SVM de regresión candidato\n",
        "model = LinearRegression(fit_intercept=True)\n",
        "model = model.fit(X_train, y_train)"
      ],
      "metadata": {
        "id": "xwXL7osr9T0R"
      },
      "execution_count": null,
      "outputs": []
    },
    {
      "cell_type": "code",
      "source": [
        "# MAE en el conjunto de test\n",
        "y_pred = model.predict(X_test)\n",
        "mae = mean_absolute_error(y_test, y_pred)\n",
        "\n",
        "print(f'Test results (MAE) {mae}')"
      ],
      "metadata": {
        "id": "2gqb5x0wA2-b"
      },
      "execution_count": null,
      "outputs": []
    },
    {
      "cell_type": "code",
      "source": [
        "plt.scatter(X_test, y_test,  color='black',label=r'datos test')\n",
        "plt.scatter(X_train, y_train,  color='red',alpha=0.4,label=r'datos entrenamiento')\n",
        "plt.plot(X_test, y_pred, color='blue',label=r'predicción')\n",
        "plt.legend(loc='best')\n",
        "plt.xlabel(r'Engine size')\n",
        "plt.ylabel(r'CO2EMISSIONS')\n",
        "plt.show()"
      ],
      "metadata": {
        "id": "jSKmo3DjBFgb"
      },
      "execution_count": null,
      "outputs": []
    },
    {
      "cell_type": "code",
      "source": [
        "# Guardar modelo\n",
        "filename = 'finalized_model.sav'\n",
        "pickle.dump(model, open(filename, 'wb'))"
      ],
      "metadata": {
        "id": "s1-gKxR8BHdv"
      },
      "execution_count": null,
      "outputs": []
    },
    {
      "cell_type": "code",
      "source": [
        "ls"
      ],
      "metadata": {
        "id": "vnT1eMkGNvMG"
      },
      "execution_count": null,
      "outputs": []
    },
    {
      "cell_type": "code",
      "source": [
        "# load the model from disk\n",
        "loaded_model = pickle.load(open(filename, 'rb'))\n",
        "result = loaded_model.score(X_test, y_test)\n",
        "print(result)"
      ],
      "metadata": {
        "id": "B7MY4czsSbOF"
      },
      "execution_count": null,
      "outputs": []
    },
    {
      "cell_type": "code",
      "source": [
        "#KNN\n",
        "# Definimos un algoritmo SVM de regresión\n",
        "algorithm = KNeighborsRegressor(n_neighbors=10, weights='distance')"
      ],
      "metadata": {
        "id": "7wbRDDhNkZvW"
      },
      "execution_count": null,
      "outputs": []
    },
    {
      "cell_type": "code",
      "source": [
        "# Validación y evaluación del modelo.\n",
        "# en \"cv = KFold(n_splits=5)\" se hace un cross-validation INTERNO!!\n",
        "results = cross_validate(algorithm, X_train, y_train, cv = KFold(n_splits=5, shuffle=True, random_state=42), scoring=metricas)\n",
        "# Presentación de los resultados de la evaluación.\n",
        "pprint(results)"
      ],
      "metadata": {
        "id": "AhNzb7M_kNz_"
      },
      "execution_count": null,
      "outputs": []
    },
    {
      "cell_type": "code",
      "source": [
        "# K-Vecinos\n",
        "knn = KNeighborsRegressor(n_neighbors=2, weights='distance')\n",
        "knn.fit(X_train, y_train)"
      ],
      "metadata": {
        "id": "CGBBzP5-jRWJ"
      },
      "execution_count": null,
      "outputs": []
    },
    {
      "cell_type": "code",
      "source": [
        "# MAE en el conjunto de test\n",
        "y_pred = knn.predict(X_test)\n",
        "mae = mean_absolute_error(y_test, y_pred)\n",
        "\n",
        "print(f'Test results (MAE) {mae}')"
      ],
      "metadata": {
        "id": "KtwKDxjCjsW5"
      },
      "execution_count": null,
      "outputs": []
    },
    {
      "cell_type": "code",
      "source": [
        "# GridSearch\n",
        "# Parameters\n",
        "parameters = {'n_neighbors':np.arange(1,15), 'weights':('uniform', 'distance'), 'metric':('euclidean', 'cosine', 'manhattan')}\n",
        "reg = KNeighborsRegressor()\n",
        "\n",
        "model = GridSearchCV(reg, parameters, scoring='r2')\n",
        "\n",
        "model.fit(X_train, y_train)"
      ],
      "metadata": {
        "id": "ByFUlPo2j-o5"
      },
      "execution_count": null,
      "outputs": []
    },
    {
      "cell_type": "code",
      "source": [
        "print(\"Mejor conjunto de parámetros:\")\n",
        "print()\n",
        "print(model.best_params_)\n",
        "print()\n",
        "print(\"Media y desviación:\")\n",
        "print()\n",
        "means = model.cv_results_['mean_test_score']\n",
        "stds = model.cv_results_['std_test_score']\n",
        "for mean, std, params in zip(means, stds, model.cv_results_['params']):\n",
        "    print(\"%0.3f (+/-%0.03f) for %r\"\n",
        "          % (mean, std * 2, params))"
      ],
      "metadata": {
        "id": "4fqVujYgscql"
      },
      "execution_count": null,
      "outputs": []
    }
  ]
}