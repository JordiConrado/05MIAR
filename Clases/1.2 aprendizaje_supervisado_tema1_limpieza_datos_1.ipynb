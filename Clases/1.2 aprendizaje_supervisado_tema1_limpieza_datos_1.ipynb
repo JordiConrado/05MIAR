{
  "nbformat": 4,
  "nbformat_minor": 0,
  "metadata": {
    "colab": {
      "provenance": []
    },
    "kernelspec": {
      "name": "python3",
      "display_name": "Python 3"
    },
    "language_info": {
      "name": "python"
    }
  },
  "cells": [
    {
      "cell_type": "markdown",
      "source": [
        "<p><img alt=\"Colaboratory logo\" height=\"140px\" src=\"https://github.com/ssanchezgoe/viu_aprendizaje_supervisado/blob/main/logos/logo_viu.png?raw=true\" align=\"left\" hspace=\"10px\" vspace=\"0px\"></p>\n",
        "\n",
        "<h1> Asignatura de Inteligencia Artificial</h1>\n",
        "\n",
        "\n",
        "La presente asignatura hace parte del máster oficial en Inteligencia Artificial, impartido en la Universidad Internacional de Valencia (VIU)."
      ],
      "metadata": {
        "id": "n8EL--64ia7W"
      }
    },
    {
      "cell_type": "markdown",
      "source": [
        "<p><a name=\"contents\"></a></p>\n",
        "\n",
        "# Contenido Sesión 6: Introducción al Machine Learning:\n",
        "\n",
        "- <a href=\"#sklearn\">1. Introducción a Scikit-Learn</a><br>\n",
        "  - <a href=\"#sklearnG\">1.1. Generalidades</a><br>\n",
        "  - <a href=\"#sklearnT\">1.2. Tratamiento/limpieza de datos</a><br>\n",
        "    - <a href=\"#norm\">1.2.1. Normalización</a><br>\n",
        "    - <a href=\"#std\">1.2.2. Estandarización</a><br>\n",
        "- <a href=\"#deteccion_de_outliers\">2. Detección de outliers</a><br>\n",
        "  - <a href=\"#ellipticEnvelope\">2.1. Método de envolvente elíptica</a><br>\n",
        "  - <a href=\"#otros_metodos_outliers\">2.2. Otros métodos de detección de outliers</a><br>\n",
        "  - <a href=\"#boxplots\">2.3. Métodos de Boxplots/Cajas y Bigotes.</a><br>\n",
        "\n",
        "\n",
        "  \n"
      ],
      "metadata": {
        "id": "EsvFVNKkjuzW"
      }
    },
    {
      "cell_type": "markdown",
      "metadata": {
        "id": "d_A9WFzM546Y"
      },
      "source": [
        "<p><a name=\"sklearn\"></a></p>\n",
        "\n",
        "# 1. Introducción a Scikit-Learn\n",
        "\n",
        "[Contenidos](#contents)\n",
        "\n",
        "\n"
      ]
    },
    {
      "cell_type": "markdown",
      "source": [
        "<p><a name=\"sklearnG\"></a></p>\n",
        "\n",
        "## 1.1. Generalidades\n",
        "\n",
        "[Contenidos](#contents)\n"
      ],
      "metadata": {
        "id": "rEQluC4oPHba"
      }
    },
    {
      "cell_type": "markdown",
      "metadata": {
        "id": "axPhkEXz5581"
      },
      "source": [
        "Hay varias bibliotecas de Python que proporcionan implementaciones sólidas de una variedad de algoritmos de ML. Una de las más conocidos es **Scikit-Learn**, un paquete que proporciona versiones eficientes de una gran cantidad de algoritmos comunes. Scikit-Learn se caracteriza por ser una API limpia, uniforme y optimizada, así como por una documentación en línea muy útil y completa. La API de Scikit-Learn está notablemente bien diseñada. Los principales principios de diseño son:\n",
        "\n",
        "* **Estimadores**: Cualquier objeto que pueda estimar algunos parámetros basados en un conjunto de datos se llama *estimador*. La estimación en sí misma se realiza mediante el método `fit()`, y solo toma un conjunto de datos como parámetro (o dos para algoritmos de aprendizaje supervisados; el segundo conjunto de datos contiene las etiquetas). Cualquier otro parámetro necesario para guiar el proceso de estimación se considera un hiperparámetro."
      ]
    },
    {
      "cell_type": "markdown",
      "metadata": {
        "id": "P9rY3e6M4fUC"
      },
      "source": [
        "* **Transformadores**: Algunos estimadores (como el imputer) también pueden transformar un conjunto de datos; Estos se llaman transformadores. Una vez más, la API es bastante simple: la transformación se realiza mediante el método `transform()` con el conjunto de datos para transformar como parámetro. Los transformadores también tienen un método conveniente llamado `fit_transform()` que es equivalente a llamar a `fit()` y luego aplicar `transform()`"
      ]
    },
    {
      "cell_type": "markdown",
      "metadata": {
        "id": "-uphcWJo4j7x"
      },
      "source": [
        "* **Predictores**: Finalmente, algunos estimadores son capaces de hacer predicciones dado un conjunto de datos; Estos se conocen como predictores. Un predictor tiene un método `predict()` que toma un conjunto de datos de nuevas instancias y devuelve un conjunto de datos de predicciones correspondientes. También tiene un método `score()` que mide la calidad de las predicciones dado un conjunto de prueba. (El modelo `LinearRegression` que veremos más adelante es un ejemplo de un predictor)\n"
      ]
    },
    {
      "cell_type": "markdown",
      "source": [
        "<p><a name=\"sklearnT\"></a></p>\n",
        "\n",
        "## 1.2. Tratamiento/limpieza de datos\n",
        "\n",
        "[Contenidos](#contents)"
      ],
      "metadata": {
        "id": "Oyk_HDgeIw8q"
      }
    },
    {
      "cell_type": "markdown",
      "metadata": {
        "id": "ThYEc56n6AP9"
      },
      "source": [
        "\n",
        "\n",
        "En Machine Learning (ML), se trata de crear modelos a partir de datos, en donde estos debe ser presentados de forma adecuada según el algoritmo usado.\n",
        "\n",
        "Para los casos de algoritmos se basan en distancias, pesos asociados a características, etc, es necesario proceder a **normalizar** o **estandarizar** los datos. La *normalización* se lleva a cabo en aquellos algoritmos de machine learning que no se presupone una distribución de los datos. Por el contrario, la *estandarización* se debe llevar a cabo en aquellos casos en que los algoritmos de machine learning presuponen que los datos sigue una distribución normal.\n",
        "\n",
        "Los algoritmos de ML no funcionan bien cuando los atributos numéricos de entrada tienen escalas muy diferentes (o en algunos casos las entradas deben estar normalizadas/estandarizadas).\n",
        "\n",
        "---\n",
        "**¡IMPORTANTE!**\n",
        "\n",
        "Cuando se divide un conjunto de datos en `train`y `test`, se debe normalizar o estandarizar los datos usando el conjunto de `train`, y realizar la transformación sobre el grupo de `test` usando el `estimador` definido para el grupo de `train`.\n",
        "\n",
        "---\n",
        "\n",
        "Veamos como llevar a cabo estos dos métodos en python."
      ]
    },
    {
      "cell_type": "markdown",
      "metadata": {
        "id": "keS9v4A2qiig"
      },
      "source": [
        "<p><a name=\"norm\"></a></p>\n",
        "\n",
        "### 1.2.1. Normalización de características\n",
        "\n",
        "[Contenidos](#contents)"
      ]
    },
    {
      "cell_type": "markdown",
      "metadata": {
        "id": "nYdSdabfqvxh"
      },
      "source": [
        "En la normalización, los datos sufren la siguiente transformación:\n",
        "\n",
        "$$ x'=\\frac{x-x_{min}}{x_{max}-x_{min}}.$$\n",
        "\n",
        "en donde, los valores finales de cada una de las características estarán definidos en el rango $[0,1]$.\n",
        "\n",
        "Veamos un ejemplo a continuación de como normalizar un conjunto de datos."
      ]
    },
    {
      "cell_type": "code",
      "source": [
        "from sklearn import preprocessing\n",
        "import numpy as np"
      ],
      "metadata": {
        "id": "hj6TDESrqByu"
      },
      "execution_count": 1,
      "outputs": []
    },
    {
      "cell_type": "code",
      "source": [
        "# Carga de datos.\n",
        "X_train = np.array([[ 1., -4.,  5.],\n",
        "                    [ 5.,  0.,  2.],\n",
        "                    [ 0.,  6., -3.]])\n",
        "\n",
        "print(X_train)"
      ],
      "metadata": {
        "id": "kJlQcZn-qDNy",
        "colab": {
          "base_uri": "https://localhost:8080/"
        },
        "outputId": "560b63c8-949f-46ca-f61e-c44ed7f621e5"
      },
      "execution_count": 2,
      "outputs": [
        {
          "output_type": "stream",
          "name": "stdout",
          "text": [
            "[[ 1. -4.  5.]\n",
            " [ 5.  0.  2.]\n",
            " [ 0.  6. -3.]]\n"
          ]
        }
      ]
    },
    {
      "cell_type": "code",
      "source": [
        "# Limpieza de datos: normalización.\n",
        "normalizer = preprocessing.MinMaxScaler()\n",
        "X_train_norm = normalizer.fit_transform(X_train)"
      ],
      "metadata": {
        "id": "JOv8tCGXcMsv"
      },
      "execution_count": 3,
      "outputs": []
    },
    {
      "cell_type": "code",
      "source": [
        "# Salida de resultados.\n",
        "print(X_train_norm)"
      ],
      "metadata": {
        "id": "B6ZxmRpIcbUO",
        "colab": {
          "base_uri": "https://localhost:8080/"
        },
        "outputId": "b8792cfb-dca1-4ec5-c684-8922aa937321"
      },
      "execution_count": 4,
      "outputs": [
        {
          "output_type": "stream",
          "name": "stdout",
          "text": [
            "[[0.2   0.    1.   ]\n",
            " [1.    0.4   0.625]\n",
            " [0.    1.    0.   ]]\n"
          ]
        }
      ]
    },
    {
      "cell_type": "code",
      "source": [
        "# Ejemplo para ver que los resultados son iguales si aplicamos los métodos \"fit\" y \"transform\" por separado\n",
        "X_train_2 = np.copy(X_train)\n",
        "\n",
        "# Crea un objeto \"fitted_normalizer\" llamando al método \"fit\"\n",
        "f = normalizer.fit(X_train)\n",
        "\n",
        "# Aplica el objeto sobre los datos \"X_train_2\" para obtener \"X_train_norm_2\"\n",
        "X_train_norm_2 = f.transform(X_train)\n",
        "\n",
        "# Comprueba si \"X_train_norm\" y \"X_train_norm_2\" son iguales\n",
        "print(np.array_equiv(X_train_norm, X_train_norm_2))"
      ],
      "metadata": {
        "id": "cDl97hkVck6b",
        "colab": {
          "base_uri": "https://localhost:8080/"
        },
        "outputId": "e04af635-a5e6-43c5-b9d5-d437e9f5b168"
      },
      "execution_count": 5,
      "outputs": [
        {
          "output_type": "stream",
          "name": "stdout",
          "text": [
            "True\n"
          ]
        }
      ]
    },
    {
      "cell_type": "markdown",
      "source": [
        "**Ejercicio**"
      ],
      "metadata": {
        "id": "PXvR1hPZdvzq"
      }
    },
    {
      "cell_type": "code",
      "source": [
        "# Normalizar un nuevo conjunto de datos de test (SOLO HAY QUE APLICAR EL MÉTODO \"transform\", NO EL \"fit\")\n",
        "X_test = np.array([[ 1., -3.,  2.],\n",
        "                    [ 3.,  0.,  0.],\n",
        "                    [ 0.,  4., -1.]])"
      ],
      "metadata": {
        "id": "5A7QLxRjd74z"
      },
      "execution_count": 6,
      "outputs": []
    },
    {
      "cell_type": "markdown",
      "source": [
        "<p><a name=\"std\"></a></p>\n",
        "\n",
        "### 1.2.2. Estandarización\n",
        "\n",
        "[Contenidos](#contents)"
      ],
      "metadata": {
        "id": "eNGWyEQKBYTx"
      }
    },
    {
      "cell_type": "markdown",
      "metadata": {
        "id": "nQv2DNcOvmlv"
      },
      "source": [
        "En la estandarización, los datos sufren la siguiente transformación:\n",
        "\n",
        "$$x'=\\frac{x-\\bar x}{\\sigma}$$\n",
        "\n",
        "siendo\n",
        "\n",
        "- $\\bar x$ la media de los datos\n",
        "- $\\sigma$ la desviación típica/estandar de los datos\n",
        "\n",
        "Veamos como llevar a cabo este proceso en python."
      ]
    },
    {
      "cell_type": "code",
      "source": [
        "from sklearn import preprocessing\n",
        "import numpy as np"
      ],
      "metadata": {
        "id": "rnU8GUAre7Sx"
      },
      "execution_count": 7,
      "outputs": []
    },
    {
      "cell_type": "code",
      "source": [
        "# Carga de datos.\n",
        "X_train = np.array([[ 1., -1.,  2.],\n",
        "                    [ 2.,  0.,  0.],\n",
        "                    [ 0.,  1., -1.]])"
      ],
      "metadata": {
        "id": "wlm-LhHke8hs"
      },
      "execution_count": 8,
      "outputs": []
    },
    {
      "cell_type": "markdown",
      "source": [
        "**Ejercicio**"
      ],
      "metadata": {
        "id": "5gVLyiKpfF3D"
      }
    },
    {
      "cell_type": "code",
      "source": [
        "# Limpieza de datos: estandarización.\n",
        "standardizer = preprocessing.StandardScaler()\n",
        "\n",
        "# Estandarizamos los datos de entrenamiento\n",
        "# ???\n",
        "X_train_stand = normalizer.fit_transform(X_train)"
      ],
      "metadata": {
        "id": "qtpeTDO7fDJp"
      },
      "execution_count": 11,
      "outputs": []
    },
    {
      "cell_type": "markdown",
      "source": [
        "**Ejercicio**"
      ],
      "metadata": {
        "id": "jMO0q5ZAfSN6"
      }
    },
    {
      "cell_type": "code",
      "source": [
        "X_train_2 = np.array([[ 1., -1.,  2.],\n",
        "                    [ 2.,  0.,  0.],\n",
        "                    [ 0.,  1., -1.]])"
      ],
      "metadata": {
        "id": "_FnwWn8ufId6"
      },
      "execution_count": 10,
      "outputs": []
    },
    {
      "cell_type": "code",
      "source": [
        "# Aplicamos los métodos \"fit\" y \"transform\" por separado\n",
        "# ???\n",
        "# ???\n",
        "# Ejemplo para ver que los resultados son iguales si aplicamos los métodos \"fit\" y \"transform\" por separado\n",
        "X_train_3 = np.copy(X_train_2)\n",
        "\n",
        "f = standardizer.fit(X_train)\n",
        "\n",
        "X_train_stand_2 = f.transform(X_train_3)\n",
        "\n",
        "print(np.array_equiv(X_train_stand, X_train_stand_2))"
      ],
      "metadata": {
        "id": "Q_-BtMIRfYlv",
        "colab": {
          "base_uri": "https://localhost:8080/"
        },
        "outputId": "f1ffde6d-bf19-4cbe-908a-c4adf8c54360"
      },
      "execution_count": 14,
      "outputs": [
        {
          "output_type": "stream",
          "name": "stdout",
          "text": [
            "True\n"
          ]
        }
      ]
    },
    {
      "cell_type": "code",
      "source": [
        "# Comprobar si las matrices estandarizadas son iguales\n",
        "# ???\n",
        "print(np.array_equiv(X_train_stand, X_train_stand_2))"
      ],
      "metadata": {
        "id": "uX1jQ1SLfa82",
        "colab": {
          "base_uri": "https://localhost:8080/"
        },
        "outputId": "648b7d6a-7fc0-421c-ef07-4cdd570dd22e"
      },
      "execution_count": 15,
      "outputs": [
        {
          "output_type": "stream",
          "name": "stdout",
          "text": [
            "True\n"
          ]
        }
      ]
    },
    {
      "cell_type": "markdown",
      "source": [
        "<p><a name=\"deteccion_de_outliers\"></a></p>\n",
        "\n",
        "# 2. Detección de outliers\n",
        "\n",
        "[Contenidos](#contents)"
      ],
      "metadata": {
        "id": "XrJfQ_AIh2sG"
      }
    },
    {
      "cell_type": "markdown",
      "source": [
        "La detección de outliers tiene como fin la eliminación de aquellas instacias de un dataset que represantan valores anómalos. Si incluimos dichos valores anómalos, podremos incurrir en el entrenamiento de modelos que incluyan los casos atípicos como \"normales\" (esta frase necesita discusión y ser razonada en profundidad).\n",
        "\n",
        "A continuación veremos los siguiente métodos para la detección de outliers:\n",
        "\n",
        "- Método de envolvente elíptica\n",
        "- Otros métodos de detección de outliers\n",
        "- Método de boxplots/cajas y bigotes"
      ],
      "metadata": {
        "id": "60mc0O8JJRYd"
      }
    },
    {
      "cell_type": "code",
      "source": [
        "import pandas as pd\n",
        "import numpy as np\n",
        "from scipy import stats\n",
        "from sklearn.covariance import EllipticEnvelope\n",
        "import matplotlib.pyplot as plt"
      ],
      "metadata": {
        "id": "OzANlV7Bh8aP"
      },
      "execution_count": 16,
      "outputs": []
    },
    {
      "cell_type": "code",
      "source": [
        "# Carga de datos.\n",
        "df = pd.read_csv(\"https://raw.githubusercontent.com/ssanchezgoe/viu_aprendizaje_supervisado/main/datasets/outliers.csv\")\n",
        "df\n",
        "display(df.head(10))\n",
        "display(df.tail(10))\n"
      ],
      "metadata": {
        "id": "ESxD54n8h_du",
        "colab": {
          "base_uri": "https://localhost:8080/",
          "height": 709
        },
        "outputId": "cc0d0b77-0e26-4dca-b397-9e1d344821b4"
      },
      "execution_count": 20,
      "outputs": [
        {
          "output_type": "display_data",
          "data": {
            "text/plain": [
              "          a         b\n",
              "0  0.149014 -0.041479\n",
              "1  0.194307  0.456909\n",
              "2 -0.070246 -0.070241\n",
              "3  0.473764  0.230230\n",
              "4 -0.140842  0.162768\n",
              "5 -0.139025 -0.139719\n",
              "6  0.072589 -0.573984\n",
              "7 -0.517475 -0.168686\n",
              "8 -0.303849  0.094274\n",
              "9 -0.272407 -0.423691"
            ],
            "text/html": [
              "\n",
              "  <div id=\"df-3d08d2aa-cd82-4f66-af68-b081b8c39ab4\" class=\"colab-df-container\">\n",
              "    <div>\n",
              "<style scoped>\n",
              "    .dataframe tbody tr th:only-of-type {\n",
              "        vertical-align: middle;\n",
              "    }\n",
              "\n",
              "    .dataframe tbody tr th {\n",
              "        vertical-align: top;\n",
              "    }\n",
              "\n",
              "    .dataframe thead th {\n",
              "        text-align: right;\n",
              "    }\n",
              "</style>\n",
              "<table border=\"1\" class=\"dataframe\">\n",
              "  <thead>\n",
              "    <tr style=\"text-align: right;\">\n",
              "      <th></th>\n",
              "      <th>a</th>\n",
              "      <th>b</th>\n",
              "    </tr>\n",
              "  </thead>\n",
              "  <tbody>\n",
              "    <tr>\n",
              "      <th>0</th>\n",
              "      <td>0.149014</td>\n",
              "      <td>-0.041479</td>\n",
              "    </tr>\n",
              "    <tr>\n",
              "      <th>1</th>\n",
              "      <td>0.194307</td>\n",
              "      <td>0.456909</td>\n",
              "    </tr>\n",
              "    <tr>\n",
              "      <th>2</th>\n",
              "      <td>-0.070246</td>\n",
              "      <td>-0.070241</td>\n",
              "    </tr>\n",
              "    <tr>\n",
              "      <th>3</th>\n",
              "      <td>0.473764</td>\n",
              "      <td>0.230230</td>\n",
              "    </tr>\n",
              "    <tr>\n",
              "      <th>4</th>\n",
              "      <td>-0.140842</td>\n",
              "      <td>0.162768</td>\n",
              "    </tr>\n",
              "    <tr>\n",
              "      <th>5</th>\n",
              "      <td>-0.139025</td>\n",
              "      <td>-0.139719</td>\n",
              "    </tr>\n",
              "    <tr>\n",
              "      <th>6</th>\n",
              "      <td>0.072589</td>\n",
              "      <td>-0.573984</td>\n",
              "    </tr>\n",
              "    <tr>\n",
              "      <th>7</th>\n",
              "      <td>-0.517475</td>\n",
              "      <td>-0.168686</td>\n",
              "    </tr>\n",
              "    <tr>\n",
              "      <th>8</th>\n",
              "      <td>-0.303849</td>\n",
              "      <td>0.094274</td>\n",
              "    </tr>\n",
              "    <tr>\n",
              "      <th>9</th>\n",
              "      <td>-0.272407</td>\n",
              "      <td>-0.423691</td>\n",
              "    </tr>\n",
              "  </tbody>\n",
              "</table>\n",
              "</div>\n",
              "    <div class=\"colab-df-buttons\">\n",
              "\n",
              "  <div class=\"colab-df-container\">\n",
              "    <button class=\"colab-df-convert\" onclick=\"convertToInteractive('df-3d08d2aa-cd82-4f66-af68-b081b8c39ab4')\"\n",
              "            title=\"Convert this dataframe to an interactive table.\"\n",
              "            style=\"display:none;\">\n",
              "\n",
              "  <svg xmlns=\"http://www.w3.org/2000/svg\" height=\"24px\" viewBox=\"0 -960 960 960\">\n",
              "    <path d=\"M120-120v-720h720v720H120Zm60-500h600v-160H180v160Zm220 220h160v-160H400v160Zm0 220h160v-160H400v160ZM180-400h160v-160H180v160Zm440 0h160v-160H620v160ZM180-180h160v-160H180v160Zm440 0h160v-160H620v160Z\"/>\n",
              "  </svg>\n",
              "    </button>\n",
              "\n",
              "  <style>\n",
              "    .colab-df-container {\n",
              "      display:flex;\n",
              "      gap: 12px;\n",
              "    }\n",
              "\n",
              "    .colab-df-convert {\n",
              "      background-color: #E8F0FE;\n",
              "      border: none;\n",
              "      border-radius: 50%;\n",
              "      cursor: pointer;\n",
              "      display: none;\n",
              "      fill: #1967D2;\n",
              "      height: 32px;\n",
              "      padding: 0 0 0 0;\n",
              "      width: 32px;\n",
              "    }\n",
              "\n",
              "    .colab-df-convert:hover {\n",
              "      background-color: #E2EBFA;\n",
              "      box-shadow: 0px 1px 2px rgba(60, 64, 67, 0.3), 0px 1px 3px 1px rgba(60, 64, 67, 0.15);\n",
              "      fill: #174EA6;\n",
              "    }\n",
              "\n",
              "    .colab-df-buttons div {\n",
              "      margin-bottom: 4px;\n",
              "    }\n",
              "\n",
              "    [theme=dark] .colab-df-convert {\n",
              "      background-color: #3B4455;\n",
              "      fill: #D2E3FC;\n",
              "    }\n",
              "\n",
              "    [theme=dark] .colab-df-convert:hover {\n",
              "      background-color: #434B5C;\n",
              "      box-shadow: 0px 1px 3px 1px rgba(0, 0, 0, 0.15);\n",
              "      filter: drop-shadow(0px 1px 2px rgba(0, 0, 0, 0.3));\n",
              "      fill: #FFFFFF;\n",
              "    }\n",
              "  </style>\n",
              "\n",
              "    <script>\n",
              "      const buttonEl =\n",
              "        document.querySelector('#df-3d08d2aa-cd82-4f66-af68-b081b8c39ab4 button.colab-df-convert');\n",
              "      buttonEl.style.display =\n",
              "        google.colab.kernel.accessAllowed ? 'block' : 'none';\n",
              "\n",
              "      async function convertToInteractive(key) {\n",
              "        const element = document.querySelector('#df-3d08d2aa-cd82-4f66-af68-b081b8c39ab4');\n",
              "        const dataTable =\n",
              "          await google.colab.kernel.invokeFunction('convertToInteractive',\n",
              "                                                    [key], {});\n",
              "        if (!dataTable) return;\n",
              "\n",
              "        const docLinkHtml = 'Like what you see? Visit the ' +\n",
              "          '<a target=\"_blank\" href=https://colab.research.google.com/notebooks/data_table.ipynb>data table notebook</a>'\n",
              "          + ' to learn more about interactive tables.';\n",
              "        element.innerHTML = '';\n",
              "        dataTable['output_type'] = 'display_data';\n",
              "        await google.colab.output.renderOutput(dataTable, element);\n",
              "        const docLink = document.createElement('div');\n",
              "        docLink.innerHTML = docLinkHtml;\n",
              "        element.appendChild(docLink);\n",
              "      }\n",
              "    </script>\n",
              "  </div>\n",
              "\n",
              "\n",
              "    <div id=\"df-3d042b57-deb8-4648-b3e8-8f29d47a8e5c\">\n",
              "      <button class=\"colab-df-quickchart\" onclick=\"quickchart('df-3d042b57-deb8-4648-b3e8-8f29d47a8e5c')\"\n",
              "                title=\"Suggest charts\"\n",
              "                style=\"display:none;\">\n",
              "\n",
              "<svg xmlns=\"http://www.w3.org/2000/svg\" height=\"24px\"viewBox=\"0 0 24 24\"\n",
              "     width=\"24px\">\n",
              "    <g>\n",
              "        <path d=\"M19 3H5c-1.1 0-2 .9-2 2v14c0 1.1.9 2 2 2h14c1.1 0 2-.9 2-2V5c0-1.1-.9-2-2-2zM9 17H7v-7h2v7zm4 0h-2V7h2v10zm4 0h-2v-4h2v4z\"/>\n",
              "    </g>\n",
              "</svg>\n",
              "      </button>\n",
              "\n",
              "<style>\n",
              "  .colab-df-quickchart {\n",
              "      --bg-color: #E8F0FE;\n",
              "      --fill-color: #1967D2;\n",
              "      --hover-bg-color: #E2EBFA;\n",
              "      --hover-fill-color: #174EA6;\n",
              "      --disabled-fill-color: #AAA;\n",
              "      --disabled-bg-color: #DDD;\n",
              "  }\n",
              "\n",
              "  [theme=dark] .colab-df-quickchart {\n",
              "      --bg-color: #3B4455;\n",
              "      --fill-color: #D2E3FC;\n",
              "      --hover-bg-color: #434B5C;\n",
              "      --hover-fill-color: #FFFFFF;\n",
              "      --disabled-bg-color: #3B4455;\n",
              "      --disabled-fill-color: #666;\n",
              "  }\n",
              "\n",
              "  .colab-df-quickchart {\n",
              "    background-color: var(--bg-color);\n",
              "    border: none;\n",
              "    border-radius: 50%;\n",
              "    cursor: pointer;\n",
              "    display: none;\n",
              "    fill: var(--fill-color);\n",
              "    height: 32px;\n",
              "    padding: 0;\n",
              "    width: 32px;\n",
              "  }\n",
              "\n",
              "  .colab-df-quickchart:hover {\n",
              "    background-color: var(--hover-bg-color);\n",
              "    box-shadow: 0 1px 2px rgba(60, 64, 67, 0.3), 0 1px 3px 1px rgba(60, 64, 67, 0.15);\n",
              "    fill: var(--button-hover-fill-color);\n",
              "  }\n",
              "\n",
              "  .colab-df-quickchart-complete:disabled,\n",
              "  .colab-df-quickchart-complete:disabled:hover {\n",
              "    background-color: var(--disabled-bg-color);\n",
              "    fill: var(--disabled-fill-color);\n",
              "    box-shadow: none;\n",
              "  }\n",
              "\n",
              "  .colab-df-spinner {\n",
              "    border: 2px solid var(--fill-color);\n",
              "    border-color: transparent;\n",
              "    border-bottom-color: var(--fill-color);\n",
              "    animation:\n",
              "      spin 1s steps(1) infinite;\n",
              "  }\n",
              "\n",
              "  @keyframes spin {\n",
              "    0% {\n",
              "      border-color: transparent;\n",
              "      border-bottom-color: var(--fill-color);\n",
              "      border-left-color: var(--fill-color);\n",
              "    }\n",
              "    20% {\n",
              "      border-color: transparent;\n",
              "      border-left-color: var(--fill-color);\n",
              "      border-top-color: var(--fill-color);\n",
              "    }\n",
              "    30% {\n",
              "      border-color: transparent;\n",
              "      border-left-color: var(--fill-color);\n",
              "      border-top-color: var(--fill-color);\n",
              "      border-right-color: var(--fill-color);\n",
              "    }\n",
              "    40% {\n",
              "      border-color: transparent;\n",
              "      border-right-color: var(--fill-color);\n",
              "      border-top-color: var(--fill-color);\n",
              "    }\n",
              "    60% {\n",
              "      border-color: transparent;\n",
              "      border-right-color: var(--fill-color);\n",
              "    }\n",
              "    80% {\n",
              "      border-color: transparent;\n",
              "      border-right-color: var(--fill-color);\n",
              "      border-bottom-color: var(--fill-color);\n",
              "    }\n",
              "    90% {\n",
              "      border-color: transparent;\n",
              "      border-bottom-color: var(--fill-color);\n",
              "    }\n",
              "  }\n",
              "</style>\n",
              "\n",
              "      <script>\n",
              "        async function quickchart(key) {\n",
              "          const quickchartButtonEl =\n",
              "            document.querySelector('#' + key + ' button');\n",
              "          quickchartButtonEl.disabled = true;  // To prevent multiple clicks.\n",
              "          quickchartButtonEl.classList.add('colab-df-spinner');\n",
              "          try {\n",
              "            const charts = await google.colab.kernel.invokeFunction(\n",
              "                'suggestCharts', [key], {});\n",
              "          } catch (error) {\n",
              "            console.error('Error during call to suggestCharts:', error);\n",
              "          }\n",
              "          quickchartButtonEl.classList.remove('colab-df-spinner');\n",
              "          quickchartButtonEl.classList.add('colab-df-quickchart-complete');\n",
              "        }\n",
              "        (() => {\n",
              "          let quickchartButtonEl =\n",
              "            document.querySelector('#df-3d042b57-deb8-4648-b3e8-8f29d47a8e5c button');\n",
              "          quickchartButtonEl.style.display =\n",
              "            google.colab.kernel.accessAllowed ? 'block' : 'none';\n",
              "        })();\n",
              "      </script>\n",
              "    </div>\n",
              "\n",
              "    </div>\n",
              "  </div>\n"
            ],
            "application/vnd.google.colaboratory.intrinsic+json": {
              "type": "dataframe",
              "summary": "{\n  \"name\": \"display(df\",\n  \"rows\": 10,\n  \"fields\": [\n    {\n      \"column\": \"a\",\n      \"properties\": {\n        \"dtype\": \"number\",\n        \"std\": 0.2862362750754988,\n        \"min\": -0.5174753497539099,\n        \"max\": 0.4737638446522174,\n        \"num_unique_values\": 10,\n        \"samples\": [\n          -0.3038493361003271,\n          0.1943065614302077,\n          -0.1390253078437386\n        ],\n        \"semantic_type\": \"\",\n        \"description\": \"\"\n      }\n    },\n    {\n      \"column\": \"b\",\n      \"properties\": {\n        \"dtype\": \"number\",\n        \"std\": 0.30520012166997357,\n        \"min\": -0.5739840733973394,\n        \"max\": 0.4569089569224075,\n        \"num_unique_values\": 10,\n        \"samples\": [\n          0.0942741997785821,\n          0.4569089569224075,\n          -0.139718926071077\n        ],\n        \"semantic_type\": \"\",\n        \"description\": \"\"\n      }\n    }\n  ]\n}"
            }
          },
          "metadata": {}
        },
        {
          "output_type": "display_data",
          "data": {
            "text/plain": [
              "            a         b\n",
              "190 -2.571455  4.423190\n",
              "191 -3.316850  5.558670\n",
              "192 -5.854146  5.638546\n",
              "193 -5.482081  4.693717\n",
              "194  0.332413  5.915578\n",
              "195 -5.114441  0.646251\n",
              "196  5.631630  0.277174\n",
              "197  1.552784  2.348984\n",
              "198 -0.545507  1.530697\n",
              "199  1.011772  4.813896"
            ],
            "text/html": [
              "\n",
              "  <div id=\"df-3ac2c7d9-2fc0-430f-a547-cc94ba46bd20\" class=\"colab-df-container\">\n",
              "    <div>\n",
              "<style scoped>\n",
              "    .dataframe tbody tr th:only-of-type {\n",
              "        vertical-align: middle;\n",
              "    }\n",
              "\n",
              "    .dataframe tbody tr th {\n",
              "        vertical-align: top;\n",
              "    }\n",
              "\n",
              "    .dataframe thead th {\n",
              "        text-align: right;\n",
              "    }\n",
              "</style>\n",
              "<table border=\"1\" class=\"dataframe\">\n",
              "  <thead>\n",
              "    <tr style=\"text-align: right;\">\n",
              "      <th></th>\n",
              "      <th>a</th>\n",
              "      <th>b</th>\n",
              "    </tr>\n",
              "  </thead>\n",
              "  <tbody>\n",
              "    <tr>\n",
              "      <th>190</th>\n",
              "      <td>-2.571455</td>\n",
              "      <td>4.423190</td>\n",
              "    </tr>\n",
              "    <tr>\n",
              "      <th>191</th>\n",
              "      <td>-3.316850</td>\n",
              "      <td>5.558670</td>\n",
              "    </tr>\n",
              "    <tr>\n",
              "      <th>192</th>\n",
              "      <td>-5.854146</td>\n",
              "      <td>5.638546</td>\n",
              "    </tr>\n",
              "    <tr>\n",
              "      <th>193</th>\n",
              "      <td>-5.482081</td>\n",
              "      <td>4.693717</td>\n",
              "    </tr>\n",
              "    <tr>\n",
              "      <th>194</th>\n",
              "      <td>0.332413</td>\n",
              "      <td>5.915578</td>\n",
              "    </tr>\n",
              "    <tr>\n",
              "      <th>195</th>\n",
              "      <td>-5.114441</td>\n",
              "      <td>0.646251</td>\n",
              "    </tr>\n",
              "    <tr>\n",
              "      <th>196</th>\n",
              "      <td>5.631630</td>\n",
              "      <td>0.277174</td>\n",
              "    </tr>\n",
              "    <tr>\n",
              "      <th>197</th>\n",
              "      <td>1.552784</td>\n",
              "      <td>2.348984</td>\n",
              "    </tr>\n",
              "    <tr>\n",
              "      <th>198</th>\n",
              "      <td>-0.545507</td>\n",
              "      <td>1.530697</td>\n",
              "    </tr>\n",
              "    <tr>\n",
              "      <th>199</th>\n",
              "      <td>1.011772</td>\n",
              "      <td>4.813896</td>\n",
              "    </tr>\n",
              "  </tbody>\n",
              "</table>\n",
              "</div>\n",
              "    <div class=\"colab-df-buttons\">\n",
              "\n",
              "  <div class=\"colab-df-container\">\n",
              "    <button class=\"colab-df-convert\" onclick=\"convertToInteractive('df-3ac2c7d9-2fc0-430f-a547-cc94ba46bd20')\"\n",
              "            title=\"Convert this dataframe to an interactive table.\"\n",
              "            style=\"display:none;\">\n",
              "\n",
              "  <svg xmlns=\"http://www.w3.org/2000/svg\" height=\"24px\" viewBox=\"0 -960 960 960\">\n",
              "    <path d=\"M120-120v-720h720v720H120Zm60-500h600v-160H180v160Zm220 220h160v-160H400v160Zm0 220h160v-160H400v160ZM180-400h160v-160H180v160Zm440 0h160v-160H620v160ZM180-180h160v-160H180v160Zm440 0h160v-160H620v160Z\"/>\n",
              "  </svg>\n",
              "    </button>\n",
              "\n",
              "  <style>\n",
              "    .colab-df-container {\n",
              "      display:flex;\n",
              "      gap: 12px;\n",
              "    }\n",
              "\n",
              "    .colab-df-convert {\n",
              "      background-color: #E8F0FE;\n",
              "      border: none;\n",
              "      border-radius: 50%;\n",
              "      cursor: pointer;\n",
              "      display: none;\n",
              "      fill: #1967D2;\n",
              "      height: 32px;\n",
              "      padding: 0 0 0 0;\n",
              "      width: 32px;\n",
              "    }\n",
              "\n",
              "    .colab-df-convert:hover {\n",
              "      background-color: #E2EBFA;\n",
              "      box-shadow: 0px 1px 2px rgba(60, 64, 67, 0.3), 0px 1px 3px 1px rgba(60, 64, 67, 0.15);\n",
              "      fill: #174EA6;\n",
              "    }\n",
              "\n",
              "    .colab-df-buttons div {\n",
              "      margin-bottom: 4px;\n",
              "    }\n",
              "\n",
              "    [theme=dark] .colab-df-convert {\n",
              "      background-color: #3B4455;\n",
              "      fill: #D2E3FC;\n",
              "    }\n",
              "\n",
              "    [theme=dark] .colab-df-convert:hover {\n",
              "      background-color: #434B5C;\n",
              "      box-shadow: 0px 1px 3px 1px rgba(0, 0, 0, 0.15);\n",
              "      filter: drop-shadow(0px 1px 2px rgba(0, 0, 0, 0.3));\n",
              "      fill: #FFFFFF;\n",
              "    }\n",
              "  </style>\n",
              "\n",
              "    <script>\n",
              "      const buttonEl =\n",
              "        document.querySelector('#df-3ac2c7d9-2fc0-430f-a547-cc94ba46bd20 button.colab-df-convert');\n",
              "      buttonEl.style.display =\n",
              "        google.colab.kernel.accessAllowed ? 'block' : 'none';\n",
              "\n",
              "      async function convertToInteractive(key) {\n",
              "        const element = document.querySelector('#df-3ac2c7d9-2fc0-430f-a547-cc94ba46bd20');\n",
              "        const dataTable =\n",
              "          await google.colab.kernel.invokeFunction('convertToInteractive',\n",
              "                                                    [key], {});\n",
              "        if (!dataTable) return;\n",
              "\n",
              "        const docLinkHtml = 'Like what you see? Visit the ' +\n",
              "          '<a target=\"_blank\" href=https://colab.research.google.com/notebooks/data_table.ipynb>data table notebook</a>'\n",
              "          + ' to learn more about interactive tables.';\n",
              "        element.innerHTML = '';\n",
              "        dataTable['output_type'] = 'display_data';\n",
              "        await google.colab.output.renderOutput(dataTable, element);\n",
              "        const docLink = document.createElement('div');\n",
              "        docLink.innerHTML = docLinkHtml;\n",
              "        element.appendChild(docLink);\n",
              "      }\n",
              "    </script>\n",
              "  </div>\n",
              "\n",
              "\n",
              "    <div id=\"df-fda1e63f-1390-4047-ada5-3195fde49885\">\n",
              "      <button class=\"colab-df-quickchart\" onclick=\"quickchart('df-fda1e63f-1390-4047-ada5-3195fde49885')\"\n",
              "                title=\"Suggest charts\"\n",
              "                style=\"display:none;\">\n",
              "\n",
              "<svg xmlns=\"http://www.w3.org/2000/svg\" height=\"24px\"viewBox=\"0 0 24 24\"\n",
              "     width=\"24px\">\n",
              "    <g>\n",
              "        <path d=\"M19 3H5c-1.1 0-2 .9-2 2v14c0 1.1.9 2 2 2h14c1.1 0 2-.9 2-2V5c0-1.1-.9-2-2-2zM9 17H7v-7h2v7zm4 0h-2V7h2v10zm4 0h-2v-4h2v4z\"/>\n",
              "    </g>\n",
              "</svg>\n",
              "      </button>\n",
              "\n",
              "<style>\n",
              "  .colab-df-quickchart {\n",
              "      --bg-color: #E8F0FE;\n",
              "      --fill-color: #1967D2;\n",
              "      --hover-bg-color: #E2EBFA;\n",
              "      --hover-fill-color: #174EA6;\n",
              "      --disabled-fill-color: #AAA;\n",
              "      --disabled-bg-color: #DDD;\n",
              "  }\n",
              "\n",
              "  [theme=dark] .colab-df-quickchart {\n",
              "      --bg-color: #3B4455;\n",
              "      --fill-color: #D2E3FC;\n",
              "      --hover-bg-color: #434B5C;\n",
              "      --hover-fill-color: #FFFFFF;\n",
              "      --disabled-bg-color: #3B4455;\n",
              "      --disabled-fill-color: #666;\n",
              "  }\n",
              "\n",
              "  .colab-df-quickchart {\n",
              "    background-color: var(--bg-color);\n",
              "    border: none;\n",
              "    border-radius: 50%;\n",
              "    cursor: pointer;\n",
              "    display: none;\n",
              "    fill: var(--fill-color);\n",
              "    height: 32px;\n",
              "    padding: 0;\n",
              "    width: 32px;\n",
              "  }\n",
              "\n",
              "  .colab-df-quickchart:hover {\n",
              "    background-color: var(--hover-bg-color);\n",
              "    box-shadow: 0 1px 2px rgba(60, 64, 67, 0.3), 0 1px 3px 1px rgba(60, 64, 67, 0.15);\n",
              "    fill: var(--button-hover-fill-color);\n",
              "  }\n",
              "\n",
              "  .colab-df-quickchart-complete:disabled,\n",
              "  .colab-df-quickchart-complete:disabled:hover {\n",
              "    background-color: var(--disabled-bg-color);\n",
              "    fill: var(--disabled-fill-color);\n",
              "    box-shadow: none;\n",
              "  }\n",
              "\n",
              "  .colab-df-spinner {\n",
              "    border: 2px solid var(--fill-color);\n",
              "    border-color: transparent;\n",
              "    border-bottom-color: var(--fill-color);\n",
              "    animation:\n",
              "      spin 1s steps(1) infinite;\n",
              "  }\n",
              "\n",
              "  @keyframes spin {\n",
              "    0% {\n",
              "      border-color: transparent;\n",
              "      border-bottom-color: var(--fill-color);\n",
              "      border-left-color: var(--fill-color);\n",
              "    }\n",
              "    20% {\n",
              "      border-color: transparent;\n",
              "      border-left-color: var(--fill-color);\n",
              "      border-top-color: var(--fill-color);\n",
              "    }\n",
              "    30% {\n",
              "      border-color: transparent;\n",
              "      border-left-color: var(--fill-color);\n",
              "      border-top-color: var(--fill-color);\n",
              "      border-right-color: var(--fill-color);\n",
              "    }\n",
              "    40% {\n",
              "      border-color: transparent;\n",
              "      border-right-color: var(--fill-color);\n",
              "      border-top-color: var(--fill-color);\n",
              "    }\n",
              "    60% {\n",
              "      border-color: transparent;\n",
              "      border-right-color: var(--fill-color);\n",
              "    }\n",
              "    80% {\n",
              "      border-color: transparent;\n",
              "      border-right-color: var(--fill-color);\n",
              "      border-bottom-color: var(--fill-color);\n",
              "    }\n",
              "    90% {\n",
              "      border-color: transparent;\n",
              "      border-bottom-color: var(--fill-color);\n",
              "    }\n",
              "  }\n",
              "</style>\n",
              "\n",
              "      <script>\n",
              "        async function quickchart(key) {\n",
              "          const quickchartButtonEl =\n",
              "            document.querySelector('#' + key + ' button');\n",
              "          quickchartButtonEl.disabled = true;  // To prevent multiple clicks.\n",
              "          quickchartButtonEl.classList.add('colab-df-spinner');\n",
              "          try {\n",
              "            const charts = await google.colab.kernel.invokeFunction(\n",
              "                'suggestCharts', [key], {});\n",
              "          } catch (error) {\n",
              "            console.error('Error during call to suggestCharts:', error);\n",
              "          }\n",
              "          quickchartButtonEl.classList.remove('colab-df-spinner');\n",
              "          quickchartButtonEl.classList.add('colab-df-quickchart-complete');\n",
              "        }\n",
              "        (() => {\n",
              "          let quickchartButtonEl =\n",
              "            document.querySelector('#df-fda1e63f-1390-4047-ada5-3195fde49885 button');\n",
              "          quickchartButtonEl.style.display =\n",
              "            google.colab.kernel.accessAllowed ? 'block' : 'none';\n",
              "        })();\n",
              "      </script>\n",
              "    </div>\n",
              "\n",
              "    </div>\n",
              "  </div>\n"
            ],
            "application/vnd.google.colaboratory.intrinsic+json": {
              "type": "dataframe",
              "summary": "{\n  \"name\": \"display(df\",\n  \"rows\": 10,\n  \"fields\": [\n    {\n      \"column\": \"a\",\n      \"properties\": {\n        \"dtype\": \"number\",\n        \"std\": 3.697516409906415,\n        \"min\": -5.854146303722204,\n        \"max\": 5.631630427429187,\n        \"num_unique_values\": 10,\n        \"samples\": [\n          -0.5455072227867213,\n          -3.3168499377665683,\n          -5.114441223175214\n        ],\n        \"semantic_type\": \"\",\n        \"description\": \"\"\n      }\n    },\n    {\n      \"column\": \"b\",\n      \"properties\": {\n        \"dtype\": \"number\",\n        \"std\": 2.1682524793010782,\n        \"min\": 0.2771741300417858,\n        \"max\": 5.915577553431604,\n        \"num_unique_values\": 10,\n        \"samples\": [\n          1.5306969610087613,\n          5.558670473287336,\n          0.6462514128158494\n        ],\n        \"semantic_type\": \"\",\n        \"description\": \"\"\n      }\n    }\n  ]\n}"
            }
          },
          "metadata": {}
        }
      ]
    },
    {
      "cell_type": "markdown",
      "source": [
        "<p><a name=\"ellipticEnvelope\"></a></p>\n",
        "\n",
        "## 2.1. Método de envolvente elíptica\n",
        "\n",
        "[Contenidos](#contents)"
      ],
      "metadata": {
        "id": "pkf9kMecicfw"
      }
    },
    {
      "cell_type": "code",
      "source": [
        "algorithm = EllipticEnvelope(support_fraction=None, contamination=0.25, random_state=42)\n",
        "outlier_method = algorithm.fit(df)\n",
        "\n",
        "# Aplicamos el método de detección de outliers entrenado sobre nuesto dataset\n",
        "df_outliers = outlier_method.predict(df)\n",
        "print(df_outliers)\n",
        "\n",
        "# Determinar la posición de los outliers\n",
        "pos_outliers = np.where(df_outliers==-1)[0]\n",
        "print('\\nOutliers en la posición: \\n', pos_outliers)\n",
        "\n",
        "# Determinar el número de outliers\n",
        "print('\\nNúmero de outliers: \\n', len(pos_outliers))\n",
        "\n"
      ],
      "metadata": {
        "id": "bOb8UFmxiWpN",
        "colab": {
          "base_uri": "https://localhost:8080/"
        },
        "outputId": "b6fab612-fc4b-44a2-cede-8d84f281a90d"
      },
      "execution_count": 48,
      "outputs": [
        {
          "output_type": "stream",
          "name": "stdout",
          "text": [
            "[ 1  1  1  1  1  1  1  1  1  1  1  1  1  1  1  1  1  1  1  1  1  1  1  1\n",
            "  1  1  1  1  1  1  1  1  1  1  1  1  1  1  1  1  1  1  1  1  1  1  1  1\n",
            "  1  1  1  1  1  1  1  1  1  1  1  1  1  1  1  1  1  1  1  1  1  1  1  1\n",
            "  1  1  1  1  1  1  1  1  1  1  1  1  1  1  1  1  1  1  1  1  1  1  1  1\n",
            "  1  1  1  1  1  1  1  1  1  1  1  1  1  1  1  1  1  1  1  1  1  1  1  1\n",
            "  1  1  1  1  1  1  1  1  1  1  1  1  1  1  1  1  1  1  1  1  1  1  1  1\n",
            "  1  1  1  1  1  1 -1 -1 -1 -1 -1 -1 -1 -1 -1 -1 -1 -1 -1 -1 -1 -1 -1 -1\n",
            " -1 -1 -1 -1 -1 -1 -1 -1 -1 -1 -1 -1 -1 -1 -1 -1 -1 -1 -1 -1 -1 -1 -1 -1\n",
            " -1 -1 -1 -1 -1 -1 -1 -1]\n",
            "\n",
            "Outliers en la posición: \n",
            " [150 151 152 153 154 155 156 157 158 159 160 161 162 163 164 165 166 167\n",
            " 168 169 170 171 172 173 174 175 176 177 178 179 180 181 182 183 184 185\n",
            " 186 187 188 189 190 191 192 193 194 195 196 197 198 199]\n",
            "\n",
            "Número de outliers: \n",
            " 50\n"
          ]
        }
      ]
    },
    {
      "cell_type": "code",
      "source": [
        "# @title ##**Ejercicio**: Crear una función que, a partir de un dataframe \"df\" y un algoritmo \"algorithm\", devuelva la matriz y la posición de los outliers.\n",
        "\n",
        "def find_outliers(df, algorithm):\n",
        "\n",
        "  outlier_method = algorithm.fit(df)\n",
        "  df_outliers = outlier_method.predict(df)\n",
        "\n",
        "  pos_outliers = np.where(df_outliers==-1)[0]\n",
        "  print('\\nOutliers en la posición: \\n', pos_outliers)\n",
        "\n",
        "  # Determinar el número de outliers\n",
        "  print('\\nNúmero de outliers: \\n', len(pos_outliers))\n",
        "\n",
        "  return df_outliers, pos_outliers\n"
      ],
      "metadata": {
        "id": "URGuKjG4jpVX"
      },
      "execution_count": 21,
      "outputs": []
    },
    {
      "cell_type": "code",
      "source": [
        "def find_outliers_2(df, algorithm):\n",
        "\n",
        "  outlier_method = algorithm.fit(df)\n",
        "  df_outliers = outlier_method.predict(df)\n",
        "\n",
        "  display(df_outliers)\n",
        "  pos_outliers = np.where(df_outliers==-1)[0]\n",
        "  print('\\nOutliers en la posición: \\n', pos_outliers)\n",
        "\n",
        "  # Determinar el número de outliers\n",
        "  print('\\nNúmero de outliers: \\n', len(pos_outliers))\n",
        "\n",
        "  return df_outliers, pos_outliers"
      ],
      "metadata": {
        "id": "LjhiE9IsP1N3"
      },
      "execution_count": 36,
      "outputs": []
    },
    {
      "cell_type": "markdown",
      "source": [
        "<p><a name=\"otros_metodos_outliers\"></a></p>\n",
        "\n",
        "## 2.2. Otros métodos de detección de outliers\n",
        "\n",
        "[Contenidos](#contents)"
      ],
      "metadata": {
        "id": "hckO-BWnq7Em"
      }
    },
    {
      "cell_type": "markdown",
      "source": [
        "Existen métodos similares al de la envolvente que pueden ser consultados en el link de [algoritmos de detección de outliers de Sklearn](https://scikit-learn.org/stable/modules/outlier_detection.html)."
      ],
      "metadata": {
        "id": "0Nxay5fRrUnX"
      }
    },
    {
      "cell_type": "code",
      "source": [
        "# @title ##**Ejercicio:** En base al ejercicio anterior, lleve a cabo una detección de outlier el dataframe \"df\" mediante cualquier de los métodos definidos en Sklean (IsolationForest, LocalOutlierFactor o OneClassSVM).\n",
        "\n",
        "from sklearn.ensemble import IsolationForest\n",
        "from sklearn.svm import OneClassSVM\n",
        "from sklearn.neighbors import LocalOutlierFactor\n",
        "\n",
        "IF = IsolationForest()\n",
        "# OC_SVM = ???\n",
        "LOF = LocalOutlierFactor()\n",
        "\n",
        "df_outliers, pos_outliers = find_outliers(df, IF)\n",
        "print(len(pos_outliers))\n",
        "\n",
        "df_outliers, pos_outliers = find_outliers(df, LOF)\n",
        "print(len(pos_outliers))\n"
      ],
      "metadata": {
        "id": "P4HGhLjWq3Qx",
        "colab": {
          "base_uri": "https://localhost:8080/",
          "height": 773
        },
        "outputId": "875bd5b5-60ee-45f3-dcb0-332cdac64c5f"
      },
      "execution_count": 45,
      "outputs": [
        {
          "output_type": "display_data",
          "data": {
            "text/plain": [
              "array([ 1,  1,  1,  1,  1,  1,  1,  1,  1,  1,  1,  1,  1,  1,  1,  1,  1,\n",
              "        1,  1,  1,  1,  1,  1,  1,  1,  1,  1,  1,  1,  1,  1,  1,  1,  1,\n",
              "        1,  1,  1,  1,  1,  1,  1,  1,  1,  1,  1,  1,  1,  1,  1,  1,  1,\n",
              "        1,  1,  1,  1,  1,  1,  1,  1,  1,  1,  1,  1,  1,  1,  1,  1,  1,\n",
              "        1,  1,  1,  1,  1,  1,  1,  1,  1,  1,  1,  1,  1,  1,  1,  1,  1,\n",
              "        1,  1,  1,  1,  1,  1,  1,  1,  1,  1,  1,  1,  1,  1,  1,  1,  1,\n",
              "        1,  1,  1,  1,  1,  1,  1,  1,  1,  1,  1,  1,  1,  1,  1,  1,  1,\n",
              "        1,  1,  1,  1,  1,  1,  1,  1,  1,  1,  1,  1,  1,  1,  1,  1,  1,\n",
              "        1,  1,  1,  1,  1,  1,  1,  1,  1,  1,  1,  1,  1,  1, -1, -1, -1,\n",
              "       -1, -1, -1, -1, -1, -1, -1, -1, -1, -1, -1, -1, -1, -1, -1, -1, -1,\n",
              "       -1, -1, -1, -1, -1, -1, -1, -1, -1, -1, -1, -1, -1, -1, -1, -1, -1,\n",
              "       -1, -1, -1, -1, -1, -1, -1, -1, -1, -1, -1,  1, -1])"
            ]
          },
          "metadata": {}
        },
        {
          "output_type": "stream",
          "name": "stdout",
          "text": [
            "\n",
            "Outliers en la posición: \n",
            " [150 151 152 153 154 155 156 157 158 159 160 161 162 163 164 165 166 167\n",
            " 168 169 170 171 172 173 174 175 176 177 178 179 180 181 182 183 184 185\n",
            " 186 187 188 189 190 191 192 193 194 195 196 197 199]\n",
            "\n",
            "Número de outliers: \n",
            " 49\n",
            "49\n"
          ]
        },
        {
          "output_type": "error",
          "ename": "AttributeError",
          "evalue": "This 'LocalOutlierFactor' has no attribute 'predict'",
          "traceback": [
            "\u001b[0;31m---------------------------------------------------------------------------\u001b[0m",
            "\u001b[0;31mAttributeError\u001b[0m                            Traceback (most recent call last)",
            "\u001b[0;32m/usr/local/lib/python3.11/dist-packages/sklearn/utils/_available_if.py\u001b[0m in \u001b[0;36m_check\u001b[0;34m(self, obj, owner)\u001b[0m\n\u001b[1;32m     31\u001b[0m         \u001b[0;32mtry\u001b[0m\u001b[0;34m:\u001b[0m\u001b[0;34m\u001b[0m\u001b[0;34m\u001b[0m\u001b[0m\n\u001b[0;32m---> 32\u001b[0;31m             \u001b[0mcheck_result\u001b[0m \u001b[0;34m=\u001b[0m \u001b[0mself\u001b[0m\u001b[0;34m.\u001b[0m\u001b[0mcheck\u001b[0m\u001b[0;34m(\u001b[0m\u001b[0mobj\u001b[0m\u001b[0;34m)\u001b[0m\u001b[0;34m\u001b[0m\u001b[0;34m\u001b[0m\u001b[0m\n\u001b[0m\u001b[1;32m     33\u001b[0m         \u001b[0;32mexcept\u001b[0m \u001b[0mException\u001b[0m \u001b[0;32mas\u001b[0m \u001b[0me\u001b[0m\u001b[0;34m:\u001b[0m\u001b[0;34m\u001b[0m\u001b[0;34m\u001b[0m\u001b[0m\n",
            "\u001b[0;32m/usr/local/lib/python3.11/dist-packages/sklearn/neighbors/_lof.py\u001b[0m in \u001b[0;36m_check_novelty_predict\u001b[0;34m(self)\u001b[0m\n\u001b[1;32m    336\u001b[0m             )\n\u001b[0;32m--> 337\u001b[0;31m             \u001b[0;32mraise\u001b[0m \u001b[0mAttributeError\u001b[0m\u001b[0;34m(\u001b[0m\u001b[0mmsg\u001b[0m\u001b[0;34m)\u001b[0m\u001b[0;34m\u001b[0m\u001b[0;34m\u001b[0m\u001b[0m\n\u001b[0m\u001b[1;32m    338\u001b[0m         \u001b[0;32mreturn\u001b[0m \u001b[0;32mTrue\u001b[0m\u001b[0;34m\u001b[0m\u001b[0;34m\u001b[0m\u001b[0m\n",
            "\u001b[0;31mAttributeError\u001b[0m: predict is not available when novelty=False, use fit_predict if you want to predict on training data. Use novelty=True if you want to use LOF for novelty detection and predict on new unseen data.",
            "\nThe above exception was the direct cause of the following exception:\n",
            "\u001b[0;31mAttributeError\u001b[0m                            Traceback (most recent call last)",
            "\u001b[0;32m/tmp/ipython-input-4153197288.py\u001b[0m in \u001b[0;36m<cell line: 0>\u001b[0;34m()\u001b[0m\n\u001b[1;32m     12\u001b[0m \u001b[0mprint\u001b[0m\u001b[0;34m(\u001b[0m\u001b[0mlen\u001b[0m\u001b[0;34m(\u001b[0m\u001b[0mpos_outliers\u001b[0m\u001b[0;34m)\u001b[0m\u001b[0;34m)\u001b[0m\u001b[0;34m\u001b[0m\u001b[0;34m\u001b[0m\u001b[0m\n\u001b[1;32m     13\u001b[0m \u001b[0;34m\u001b[0m\u001b[0m\n\u001b[0;32m---> 14\u001b[0;31m \u001b[0mdf_outliers\u001b[0m\u001b[0;34m,\u001b[0m \u001b[0mpos_outliers\u001b[0m \u001b[0;34m=\u001b[0m \u001b[0mfind_outliers\u001b[0m\u001b[0;34m(\u001b[0m\u001b[0mdf\u001b[0m\u001b[0;34m,\u001b[0m \u001b[0mLOF\u001b[0m\u001b[0;34m)\u001b[0m\u001b[0;34m\u001b[0m\u001b[0;34m\u001b[0m\u001b[0m\n\u001b[0m\u001b[1;32m     15\u001b[0m \u001b[0mprint\u001b[0m\u001b[0;34m(\u001b[0m\u001b[0mlen\u001b[0m\u001b[0;34m(\u001b[0m\u001b[0mpos_outliers\u001b[0m\u001b[0;34m)\u001b[0m\u001b[0;34m)\u001b[0m\u001b[0;34m\u001b[0m\u001b[0;34m\u001b[0m\u001b[0m\n",
            "\u001b[0;32m/tmp/ipython-input-2050327091.py\u001b[0m in \u001b[0;36mfind_outliers\u001b[0;34m(df, algorithm)\u001b[0m\n\u001b[1;32m      2\u001b[0m \u001b[0;34m\u001b[0m\u001b[0m\n\u001b[1;32m      3\u001b[0m   \u001b[0moutlier_method\u001b[0m \u001b[0;34m=\u001b[0m \u001b[0malgorithm\u001b[0m\u001b[0;34m.\u001b[0m\u001b[0mfit\u001b[0m\u001b[0;34m(\u001b[0m\u001b[0mdf\u001b[0m\u001b[0;34m)\u001b[0m\u001b[0;34m\u001b[0m\u001b[0;34m\u001b[0m\u001b[0m\n\u001b[0;32m----> 4\u001b[0;31m   \u001b[0mdf_outliers\u001b[0m \u001b[0;34m=\u001b[0m \u001b[0moutlier_method\u001b[0m\u001b[0;34m.\u001b[0m\u001b[0mpredict\u001b[0m\u001b[0;34m(\u001b[0m\u001b[0mdf\u001b[0m\u001b[0;34m)\u001b[0m\u001b[0;34m\u001b[0m\u001b[0;34m\u001b[0m\u001b[0m\n\u001b[0m\u001b[1;32m      5\u001b[0m \u001b[0;34m\u001b[0m\u001b[0m\n\u001b[1;32m      6\u001b[0m   \u001b[0mdisplay\u001b[0m\u001b[0;34m(\u001b[0m\u001b[0mdf_outliers\u001b[0m\u001b[0;34m)\u001b[0m\u001b[0;34m\u001b[0m\u001b[0;34m\u001b[0m\u001b[0m\n",
            "\u001b[0;32m/usr/local/lib/python3.11/dist-packages/sklearn/utils/_available_if.py\u001b[0m in \u001b[0;36m__get__\u001b[0;34m(self, obj, owner)\u001b[0m\n\u001b[1;32m     41\u001b[0m             \u001b[0;31m# delegate only on instances, not the classes.\u001b[0m\u001b[0;34m\u001b[0m\u001b[0;34m\u001b[0m\u001b[0m\n\u001b[1;32m     42\u001b[0m             \u001b[0;31m# this is to allow access to the docstrings.\u001b[0m\u001b[0;34m\u001b[0m\u001b[0;34m\u001b[0m\u001b[0m\n\u001b[0;32m---> 43\u001b[0;31m             \u001b[0mself\u001b[0m\u001b[0;34m.\u001b[0m\u001b[0m_check\u001b[0m\u001b[0;34m(\u001b[0m\u001b[0mobj\u001b[0m\u001b[0;34m,\u001b[0m \u001b[0mowner\u001b[0m\u001b[0;34m=\u001b[0m\u001b[0mowner\u001b[0m\u001b[0;34m)\u001b[0m\u001b[0;34m\u001b[0m\u001b[0;34m\u001b[0m\u001b[0m\n\u001b[0m\u001b[1;32m     44\u001b[0m             \u001b[0mout\u001b[0m \u001b[0;34m=\u001b[0m \u001b[0mMethodType\u001b[0m\u001b[0;34m(\u001b[0m\u001b[0mself\u001b[0m\u001b[0;34m.\u001b[0m\u001b[0mfn\u001b[0m\u001b[0;34m,\u001b[0m \u001b[0mobj\u001b[0m\u001b[0;34m)\u001b[0m\u001b[0;34m\u001b[0m\u001b[0;34m\u001b[0m\u001b[0m\n\u001b[1;32m     45\u001b[0m \u001b[0;34m\u001b[0m\u001b[0m\n",
            "\u001b[0;32m/usr/local/lib/python3.11/dist-packages/sklearn/utils/_available_if.py\u001b[0m in \u001b[0;36m_check\u001b[0;34m(self, obj, owner)\u001b[0m\n\u001b[1;32m     32\u001b[0m             \u001b[0mcheck_result\u001b[0m \u001b[0;34m=\u001b[0m \u001b[0mself\u001b[0m\u001b[0;34m.\u001b[0m\u001b[0mcheck\u001b[0m\u001b[0;34m(\u001b[0m\u001b[0mobj\u001b[0m\u001b[0;34m)\u001b[0m\u001b[0;34m\u001b[0m\u001b[0;34m\u001b[0m\u001b[0m\n\u001b[1;32m     33\u001b[0m         \u001b[0;32mexcept\u001b[0m \u001b[0mException\u001b[0m \u001b[0;32mas\u001b[0m \u001b[0me\u001b[0m\u001b[0;34m:\u001b[0m\u001b[0;34m\u001b[0m\u001b[0;34m\u001b[0m\u001b[0m\n\u001b[0;32m---> 34\u001b[0;31m             \u001b[0;32mraise\u001b[0m \u001b[0mAttributeError\u001b[0m\u001b[0;34m(\u001b[0m\u001b[0mattr_err_msg\u001b[0m\u001b[0;34m)\u001b[0m \u001b[0;32mfrom\u001b[0m \u001b[0me\u001b[0m\u001b[0;34m\u001b[0m\u001b[0;34m\u001b[0m\u001b[0m\n\u001b[0m\u001b[1;32m     35\u001b[0m \u001b[0;34m\u001b[0m\u001b[0m\n\u001b[1;32m     36\u001b[0m         \u001b[0;32mif\u001b[0m \u001b[0;32mnot\u001b[0m \u001b[0mcheck_result\u001b[0m\u001b[0;34m:\u001b[0m\u001b[0;34m\u001b[0m\u001b[0;34m\u001b[0m\u001b[0m\n",
            "\u001b[0;31mAttributeError\u001b[0m: This 'LocalOutlierFactor' has no attribute 'predict'"
          ]
        }
      ]
    },
    {
      "cell_type": "code",
      "source": [
        "from sklearn.ensemble import IsolationForest\n",
        "from sklearn.neighbors import LocalOutlierFactor\n",
        "\n",
        "#algorithm = EllipticEnvelope(support_fraction=None, contamination=0.25, random_state=42)\n",
        "#print(\"EllipticEnvelope\")\n",
        "#find_outliers_2(df, algorithm)\n",
        "\n",
        "#algorithm = IsolationForest()\n",
        "#print(\"IsolationForest\")\n",
        "#find_outliers_2(df, algorithm)\n",
        "\n",
        "algorithm = LocalOutlierFactor()\n",
        "print(\"LocalOutlierFactor\")\n",
        "find_outliers_2(df, algorithm)"
      ],
      "metadata": {
        "colab": {
          "base_uri": "https://localhost:8080/",
          "height": 1000
        },
        "id": "xrNJDHisc3H-",
        "outputId": "031f8468-4cb7-4cb6-c89d-b27cd2b315bc"
      },
      "execution_count": 44,
      "outputs": [
        {
          "output_type": "stream",
          "name": "stdout",
          "text": [
            "EllipticEnvelope\n"
          ]
        },
        {
          "output_type": "display_data",
          "data": {
            "text/plain": [
              "array([ 1,  1,  1,  1,  1,  1,  1,  1,  1,  1,  1,  1,  1,  1,  1,  1,  1,\n",
              "        1,  1,  1,  1,  1,  1,  1,  1,  1,  1,  1,  1,  1,  1,  1,  1,  1,\n",
              "        1,  1,  1,  1,  1,  1,  1,  1,  1,  1,  1,  1,  1,  1,  1,  1,  1,\n",
              "        1,  1,  1,  1,  1,  1,  1,  1,  1,  1,  1,  1,  1,  1,  1,  1,  1,\n",
              "        1,  1,  1,  1,  1,  1,  1,  1,  1,  1,  1,  1,  1,  1,  1,  1,  1,\n",
              "        1,  1,  1,  1,  1,  1,  1,  1,  1,  1,  1,  1,  1,  1,  1,  1,  1,\n",
              "        1,  1,  1,  1,  1,  1,  1,  1,  1,  1,  1,  1,  1,  1,  1,  1,  1,\n",
              "        1,  1,  1,  1,  1,  1,  1,  1,  1,  1,  1,  1,  1,  1,  1,  1,  1,\n",
              "        1,  1,  1,  1,  1,  1,  1,  1,  1,  1,  1,  1,  1,  1, -1, -1, -1,\n",
              "       -1, -1, -1, -1, -1, -1, -1, -1, -1, -1, -1, -1, -1, -1, -1, -1, -1,\n",
              "       -1, -1, -1, -1, -1, -1, -1, -1, -1, -1, -1, -1, -1, -1, -1, -1, -1,\n",
              "       -1, -1, -1, -1, -1, -1, -1, -1, -1, -1, -1, -1, -1])"
            ]
          },
          "metadata": {}
        },
        {
          "output_type": "stream",
          "name": "stdout",
          "text": [
            "\n",
            "Outliers en la posición: \n",
            " [150 151 152 153 154 155 156 157 158 159 160 161 162 163 164 165 166 167\n",
            " 168 169 170 171 172 173 174 175 176 177 178 179 180 181 182 183 184 185\n",
            " 186 187 188 189 190 191 192 193 194 195 196 197 198 199]\n",
            "\n",
            "Número de outliers: \n",
            " 50\n",
            "IsolationForest\n"
          ]
        },
        {
          "output_type": "display_data",
          "data": {
            "text/plain": [
              "array([ 1,  1,  1,  1,  1,  1,  1,  1,  1,  1,  1,  1,  1,  1,  1,  1,  1,\n",
              "        1,  1,  1,  1,  1,  1,  1,  1,  1,  1,  1,  1,  1,  1,  1,  1,  1,\n",
              "        1,  1,  1,  1,  1,  1,  1,  1,  1,  1,  1,  1,  1,  1,  1,  1,  1,\n",
              "        1,  1,  1,  1,  1,  1,  1,  1,  1,  1,  1,  1,  1,  1,  1,  1,  1,\n",
              "        1,  1,  1,  1,  1,  1,  1,  1,  1,  1,  1,  1,  1,  1,  1,  1,  1,\n",
              "        1,  1,  1,  1,  1,  1,  1,  1,  1,  1,  1,  1,  1,  1,  1,  1,  1,\n",
              "        1,  1,  1,  1,  1,  1,  1,  1,  1,  1,  1,  1,  1,  1,  1,  1,  1,\n",
              "        1,  1,  1,  1,  1,  1,  1,  1,  1,  1,  1,  1,  1,  1,  1,  1,  1,\n",
              "        1,  1,  1,  1,  1,  1,  1,  1,  1,  1,  1,  1,  1,  1, -1, -1, -1,\n",
              "       -1, -1, -1, -1, -1, -1, -1, -1, -1, -1, -1, -1, -1, -1, -1, -1, -1,\n",
              "       -1, -1, -1, -1, -1, -1, -1, -1, -1, -1, -1, -1, -1, -1, -1, -1, -1,\n",
              "       -1, -1, -1, -1, -1, -1, -1, -1, -1, -1, -1,  1, -1])"
            ]
          },
          "metadata": {}
        },
        {
          "output_type": "stream",
          "name": "stdout",
          "text": [
            "\n",
            "Outliers en la posición: \n",
            " [150 151 152 153 154 155 156 157 158 159 160 161 162 163 164 165 166 167\n",
            " 168 169 170 171 172 173 174 175 176 177 178 179 180 181 182 183 184 185\n",
            " 186 187 188 189 190 191 192 193 194 195 196 197 199]\n",
            "\n",
            "Número de outliers: \n",
            " 49\n",
            "LocalOutlierFactor\n"
          ]
        },
        {
          "output_type": "error",
          "ename": "AttributeError",
          "evalue": "This 'LocalOutlierFactor' has no attribute 'predict'",
          "traceback": [
            "\u001b[0;31m---------------------------------------------------------------------------\u001b[0m",
            "\u001b[0;31mAttributeError\u001b[0m                            Traceback (most recent call last)",
            "\u001b[0;32m/usr/local/lib/python3.11/dist-packages/sklearn/utils/_available_if.py\u001b[0m in \u001b[0;36m_check\u001b[0;34m(self, obj, owner)\u001b[0m\n\u001b[1;32m     31\u001b[0m         \u001b[0;32mtry\u001b[0m\u001b[0;34m:\u001b[0m\u001b[0;34m\u001b[0m\u001b[0;34m\u001b[0m\u001b[0m\n\u001b[0;32m---> 32\u001b[0;31m             \u001b[0mcheck_result\u001b[0m \u001b[0;34m=\u001b[0m \u001b[0mself\u001b[0m\u001b[0;34m.\u001b[0m\u001b[0mcheck\u001b[0m\u001b[0;34m(\u001b[0m\u001b[0mobj\u001b[0m\u001b[0;34m)\u001b[0m\u001b[0;34m\u001b[0m\u001b[0;34m\u001b[0m\u001b[0m\n\u001b[0m\u001b[1;32m     33\u001b[0m         \u001b[0;32mexcept\u001b[0m \u001b[0mException\u001b[0m \u001b[0;32mas\u001b[0m \u001b[0me\u001b[0m\u001b[0;34m:\u001b[0m\u001b[0;34m\u001b[0m\u001b[0;34m\u001b[0m\u001b[0m\n",
            "\u001b[0;32m/usr/local/lib/python3.11/dist-packages/sklearn/neighbors/_lof.py\u001b[0m in \u001b[0;36m_check_novelty_predict\u001b[0;34m(self)\u001b[0m\n\u001b[1;32m    336\u001b[0m             )\n\u001b[0;32m--> 337\u001b[0;31m             \u001b[0;32mraise\u001b[0m \u001b[0mAttributeError\u001b[0m\u001b[0;34m(\u001b[0m\u001b[0mmsg\u001b[0m\u001b[0;34m)\u001b[0m\u001b[0;34m\u001b[0m\u001b[0;34m\u001b[0m\u001b[0m\n\u001b[0m\u001b[1;32m    338\u001b[0m         \u001b[0;32mreturn\u001b[0m \u001b[0;32mTrue\u001b[0m\u001b[0;34m\u001b[0m\u001b[0;34m\u001b[0m\u001b[0m\n",
            "\u001b[0;31mAttributeError\u001b[0m: predict is not available when novelty=False, use fit_predict if you want to predict on training data. Use novelty=True if you want to use LOF for novelty detection and predict on new unseen data.",
            "\nThe above exception was the direct cause of the following exception:\n",
            "\u001b[0;31mAttributeError\u001b[0m                            Traceback (most recent call last)",
            "\u001b[0;32m/tmp/ipython-input-2645513249.py\u001b[0m in \u001b[0;36m<cell line: 0>\u001b[0;34m()\u001b[0m\n\u001b[1;32m     12\u001b[0m \u001b[0malgorithm\u001b[0m \u001b[0;34m=\u001b[0m \u001b[0mLocalOutlierFactor\u001b[0m\u001b[0;34m(\u001b[0m\u001b[0;34m)\u001b[0m\u001b[0;34m\u001b[0m\u001b[0;34m\u001b[0m\u001b[0m\n\u001b[1;32m     13\u001b[0m \u001b[0mprint\u001b[0m\u001b[0;34m(\u001b[0m\u001b[0;34m\"LocalOutlierFactor\"\u001b[0m\u001b[0;34m)\u001b[0m\u001b[0;34m\u001b[0m\u001b[0;34m\u001b[0m\u001b[0m\n\u001b[0;32m---> 14\u001b[0;31m \u001b[0mfind_outliers_2\u001b[0m\u001b[0;34m(\u001b[0m\u001b[0mdf\u001b[0m\u001b[0;34m,\u001b[0m \u001b[0malgorithm\u001b[0m\u001b[0;34m)\u001b[0m\u001b[0;34m\u001b[0m\u001b[0;34m\u001b[0m\u001b[0m\n\u001b[0m",
            "\u001b[0;32m/tmp/ipython-input-2900270447.py\u001b[0m in \u001b[0;36mfind_outliers_2\u001b[0;34m(df, algorithm)\u001b[0m\n\u001b[1;32m      2\u001b[0m \u001b[0;34m\u001b[0m\u001b[0m\n\u001b[1;32m      3\u001b[0m   \u001b[0moutlier_method\u001b[0m \u001b[0;34m=\u001b[0m \u001b[0malgorithm\u001b[0m\u001b[0;34m.\u001b[0m\u001b[0mfit\u001b[0m\u001b[0;34m(\u001b[0m\u001b[0mdf\u001b[0m\u001b[0;34m)\u001b[0m\u001b[0;34m\u001b[0m\u001b[0;34m\u001b[0m\u001b[0m\n\u001b[0;32m----> 4\u001b[0;31m   \u001b[0mdf_outliers\u001b[0m \u001b[0;34m=\u001b[0m \u001b[0moutlier_method\u001b[0m\u001b[0;34m.\u001b[0m\u001b[0mpredict\u001b[0m\u001b[0;34m(\u001b[0m\u001b[0mdf\u001b[0m\u001b[0;34m)\u001b[0m\u001b[0;34m\u001b[0m\u001b[0;34m\u001b[0m\u001b[0m\n\u001b[0m\u001b[1;32m      5\u001b[0m \u001b[0;34m\u001b[0m\u001b[0m\n\u001b[1;32m      6\u001b[0m   \u001b[0mdisplay\u001b[0m\u001b[0;34m(\u001b[0m\u001b[0mdf_outliers\u001b[0m\u001b[0;34m)\u001b[0m\u001b[0;34m\u001b[0m\u001b[0;34m\u001b[0m\u001b[0m\n",
            "\u001b[0;32m/usr/local/lib/python3.11/dist-packages/sklearn/utils/_available_if.py\u001b[0m in \u001b[0;36m__get__\u001b[0;34m(self, obj, owner)\u001b[0m\n\u001b[1;32m     41\u001b[0m             \u001b[0;31m# delegate only on instances, not the classes.\u001b[0m\u001b[0;34m\u001b[0m\u001b[0;34m\u001b[0m\u001b[0m\n\u001b[1;32m     42\u001b[0m             \u001b[0;31m# this is to allow access to the docstrings.\u001b[0m\u001b[0;34m\u001b[0m\u001b[0;34m\u001b[0m\u001b[0m\n\u001b[0;32m---> 43\u001b[0;31m             \u001b[0mself\u001b[0m\u001b[0;34m.\u001b[0m\u001b[0m_check\u001b[0m\u001b[0;34m(\u001b[0m\u001b[0mobj\u001b[0m\u001b[0;34m,\u001b[0m \u001b[0mowner\u001b[0m\u001b[0;34m=\u001b[0m\u001b[0mowner\u001b[0m\u001b[0;34m)\u001b[0m\u001b[0;34m\u001b[0m\u001b[0;34m\u001b[0m\u001b[0m\n\u001b[0m\u001b[1;32m     44\u001b[0m             \u001b[0mout\u001b[0m \u001b[0;34m=\u001b[0m \u001b[0mMethodType\u001b[0m\u001b[0;34m(\u001b[0m\u001b[0mself\u001b[0m\u001b[0;34m.\u001b[0m\u001b[0mfn\u001b[0m\u001b[0;34m,\u001b[0m \u001b[0mobj\u001b[0m\u001b[0;34m)\u001b[0m\u001b[0;34m\u001b[0m\u001b[0;34m\u001b[0m\u001b[0m\n\u001b[1;32m     45\u001b[0m \u001b[0;34m\u001b[0m\u001b[0m\n",
            "\u001b[0;32m/usr/local/lib/python3.11/dist-packages/sklearn/utils/_available_if.py\u001b[0m in \u001b[0;36m_check\u001b[0;34m(self, obj, owner)\u001b[0m\n\u001b[1;32m     32\u001b[0m             \u001b[0mcheck_result\u001b[0m \u001b[0;34m=\u001b[0m \u001b[0mself\u001b[0m\u001b[0;34m.\u001b[0m\u001b[0mcheck\u001b[0m\u001b[0;34m(\u001b[0m\u001b[0mobj\u001b[0m\u001b[0;34m)\u001b[0m\u001b[0;34m\u001b[0m\u001b[0;34m\u001b[0m\u001b[0m\n\u001b[1;32m     33\u001b[0m         \u001b[0;32mexcept\u001b[0m \u001b[0mException\u001b[0m \u001b[0;32mas\u001b[0m \u001b[0me\u001b[0m\u001b[0;34m:\u001b[0m\u001b[0;34m\u001b[0m\u001b[0;34m\u001b[0m\u001b[0m\n\u001b[0;32m---> 34\u001b[0;31m             \u001b[0;32mraise\u001b[0m \u001b[0mAttributeError\u001b[0m\u001b[0;34m(\u001b[0m\u001b[0mattr_err_msg\u001b[0m\u001b[0;34m)\u001b[0m \u001b[0;32mfrom\u001b[0m \u001b[0me\u001b[0m\u001b[0;34m\u001b[0m\u001b[0;34m\u001b[0m\u001b[0m\n\u001b[0m\u001b[1;32m     35\u001b[0m \u001b[0;34m\u001b[0m\u001b[0m\n\u001b[1;32m     36\u001b[0m         \u001b[0;32mif\u001b[0m \u001b[0;32mnot\u001b[0m \u001b[0mcheck_result\u001b[0m\u001b[0;34m:\u001b[0m\u001b[0;34m\u001b[0m\u001b[0;34m\u001b[0m\u001b[0m\n",
            "\u001b[0;31mAttributeError\u001b[0m: This 'LocalOutlierFactor' has no attribute 'predict'"
          ]
        }
      ]
    },
    {
      "cell_type": "markdown",
      "source": [
        "<p><a name=\"boxplots\"></a></p>\n",
        "\n",
        "## 2.3. Método de Boxplots/Cajas y Bigotes\n",
        "\n",
        "[Contenidos](#contents)"
      ],
      "metadata": {
        "id": "xbpm6KucE32p"
      }
    },
    {
      "cell_type": "markdown",
      "source": [
        "Los box plot representan gráficas en las que se pueden analizar varias características de un conjunto de datos como:\n",
        "\n",
        "<ol>\n",
        "    <li> La distribución de los datos.</li>\n",
        "    <li> Asimetría.</li>\n",
        "    <li> Los puntos aislados.</li>\n",
        "</ol>\n",
        "\n",
        "En la siguiente gráfica se muestran las diferentes partes de una gráfica de caja:\n",
        "\n",
        "<img src=\"https://i.ibb.co/6tkRtg0/Captura-de-pantalla-2019-08-22-19-01-17.png\" style=\"width:250px;height:300px;\" alt=\"Captura-de-pantalla-2019-08-20-22-39-39\" border=\"0\"></a>\n",
        "\n",
        "En esta gráfica, podemos identificar las siguiente cantidades:\n",
        "\n",
        "- 1. Mediana\n",
        "- 2. Cuartil superior $P_{75}$\n",
        "- 3. Cuartil inferior $P_{25}$\n",
        "- 4. Rango intercuartil $IQR=P_{75}-P_{25}$\n",
        "- 5. Extremo superior\n",
        "\n",
        "$$UE = \\begin{cases}\n",
        "P_{\\text{75}}+1.5\\times IQR = UP & \\text{si } UP < \\text{max(Data)} \\\\\n",
        "\\text{max(Data)}       & \\text{si } UP \\ge \\text{max(Data)}\n",
        "\\end{cases}$$\n",
        "\n",
        "- 6. Extremo inferior\n",
        "\n",
        "$$LE= \\begin{cases}\n",
        "P_{\\text{25}}-1.5\\times IQR = LO & \\text{si } LO > \\text{min(Data)}\n",
        "\\\\\n",
        "\\text{min(Data)} & \\text{si } LO \\le \\text{min(Data)}\n",
        "\\end{cases}$$"
      ],
      "metadata": {
        "id": "08KlCGZYE5fl"
      }
    },
    {
      "cell_type": "code",
      "source": [
        "# libraries & dataset\n",
        "import seaborn as sns\n",
        "import matplotlib.pyplot as plt\n",
        "# set a grey background (use sns.set_theme() if seaborn version 0.11.0 or above)\n",
        "sns.set(style=\"darkgrid\")\n",
        "x = np.random.randn(200)\n",
        "\n",
        "# creating a figure composed of two matplotlib.Axes objects (ax_box and ax_hist)\n",
        "f, (ax_box, ax_hist) = plt.subplots(2, sharex=True, gridspec_kw={\"height_ratios\": (.15, .85)})\n",
        "\n",
        "# assigning a graph to each ax\n",
        "sns.boxplot(x, orient=\"h\", ax=ax_box)\n",
        "sns.histplot(x,  ax=ax_hist)\n",
        "\n",
        "# Remove x axis name for the boxplot\n",
        "ax_box.set(xlabel='')\n",
        "plt.show()"
      ],
      "metadata": {
        "id": "5rH0zo_5E5FC",
        "colab": {
          "base_uri": "https://localhost:8080/",
          "height": 434
        },
        "outputId": "4e038295-1b28-451b-eb3c-c22a1c680a15"
      },
      "execution_count": 49,
      "outputs": [
        {
          "output_type": "display_data",
          "data": {
            "text/plain": [
              "<Figure size 640x480 with 2 Axes>"
            ],
            "image/png": "[encoded data removed]"
          },
          "metadata": {}
        }
      ]
    },
    {
      "cell_type": "markdown",
      "source": [
        "**Código de detección de outlieres mediante boxplots**"
      ],
      "metadata": {
        "id": "fwoVkS2NIQj8"
      }
    },
    {
      "cell_type": "code",
      "source": [
        "# Seleccionamos el atributo que vamos a medir\n",
        "a = df['a']\n",
        "\n",
        "# Seleccionamos los umbrales a partir de los cuales vamos a considerar outliers\n",
        "Q1 = stats.scoreatpercentile(a, 25)\n",
        "Q3 = stats.scoreatpercentile(a, 75)\n",
        "RIC = Q3 - Q1\n",
        "li = Q1 - 1.5*RIC #xmin\n",
        "ls = Q3 + 1.5*RIC #xmax\n",
        "\n",
        "# Observamos los límites inferior y superior\n",
        "print('limite inferior: ', li)\n",
        "print('limite superior: ', ls)\n",
        "\n",
        "# Buscamos la posición de los outliers\n",
        "pos_i = np.where(a<li)[0]\n",
        "pos_s = np.where(a>ls)[0]\n",
        "pos_outliers = np.concatenate((pos_i, pos_s))\n",
        "print('Posición de outliers: ', pos_outliers)\n",
        "print('Número de outliers: ', len(pos_outliers))\n",
        "\n",
        "# Dibujamos el diagrama de caja y bigotes\n",
        "prop = plt.boxplot(a)\n",
        "plt.boxplot(a)\n",
        "plt.show()"
      ],
      "metadata": {
        "id": "ebKzCK7OFvtj",
        "colab": {
          "base_uri": "https://localhost:8080/",
          "height": 538
        },
        "outputId": "3efdff7c-dc6b-4aa5-a886-9ed8a55849ef"
      },
      "execution_count": 50,
      "outputs": [
        {
          "output_type": "stream",
          "name": "stdout",
          "text": [
            "limite inferior:  -1.0853060827395105\n",
            "limite superior:  1.0119554520872196\n",
            "Posición de outliers:  [150 153 154 157 159 160 162 165 168 169 171 172 174 175 177 178 181 184\n",
            " 185 186 187 190 191 192 193 195 151 152 155 156 161 163 164 166 167 173\n",
            " 176 179 180 182 188 189 196 197]\n",
            "Número de outliers:  44\n"
          ]
        },
        {
          "output_type": "display_data",
          "data": {
            "text/plain": [
              "<Figure size 640x480 with 1 Axes>"
            ],
            "image/png": "[encoded data removed]"
          },
          "metadata": {}
        }
      ]
    },
    {
      "cell_type": "code",
      "source": [
        "# Definir una función que, dada una columna de un dataframe, devuelva la posición de los outliers según el método box plot\n",
        "def find_limits_BP(variable):\n",
        "\n",
        "    # Seleccionamos el atributo que vamos a medir\n",
        "    columna = df[variable]\n",
        "\n",
        "    # Seleccionamos los umbrales a partir de los cuales vamos a considerar outliers\n",
        "    Q1 = stats.scoreatpercentile(columna, 25)\n",
        "    Q3 = stats.scoreatpercentile(columna, 75)\n",
        "    RIC = Q3 - Q1\n",
        "    li = Q1 - 1.5*RIC #xmin\n",
        "    ls = Q3 + 1.5*RIC #xmax\n",
        "\n",
        "    # Observamos los límites inferior y superior\n",
        "    print('limite inferior: ', li)\n",
        "    print('limite superior: ', ls)\n",
        "\n",
        "    # Buscamos la posición de los outliers\n",
        "    pos_i = np.where(columna<li)[0]\n",
        "    pos_s = np.where(columna>ls)[0]\n",
        "    pos_outliers = np.concatenate((pos_i, pos_s))\n",
        "    print('Posición de outliers: ', pos_outliers)\n",
        "\n",
        "    return pos_outliers"
      ],
      "metadata": {
        "id": "MeW3iGZVIedL"
      },
      "execution_count": 60,
      "outputs": []
    },
    {
      "cell_type": "code",
      "source": [
        "# Creamos un bucle for que estime los valores outliers de cada atributo\n",
        "pos_outliers = []\n",
        "for i in df.columns:\n",
        "    variable =  i   # ???] # Atributo i\n",
        "    pos_out = find_limits_BP(variable) # ??? # Buscamos los outliers en esa variable con la función que hemos creado\n",
        "    pos_out = np.expand_dims(pos_out, axis=1) # Extpandimos las dimensiones\n",
        "    pos_outliers.append(pos_out) # Lo añadimos en una lista"
      ],
      "metadata": {
        "id": "9XvNTxD0IhXo",
        "colab": {
          "base_uri": "https://localhost:8080/"
        },
        "outputId": "51aa3e51-d299-41c5-8cde-11a1b82a7f6b"
      },
      "execution_count": 61,
      "outputs": [
        {
          "output_type": "stream",
          "name": "stdout",
          "text": [
            "limite inferior:  0.5\n",
            "limite superior:  2.5\n",
            "Posición de outliers:  []\n",
            "limite inferior:  2.5\n",
            "limite superior:  4.5\n",
            "Posición de outliers:  []\n"
          ]
        }
      ]
    },
    {
      "cell_type": "code",
      "source": [
        "# Concatenamos todas las posiciones de outliers\n",
        "po = np.vstack(pos_outliers)\n",
        "\n",
        "# Vemos las posiciones de todos los outliers\n",
        "pos_out = np.unique(po)\n",
        "print('Posiciones de outliers totales: ', pos_out)\n",
        "\n",
        "# Observamos el número de outliers\n",
        "print('Numero de outliers totales: ', len(pos_out))"
      ],
      "metadata": {
        "id": "ahugMeU7Ijy5"
      },
      "execution_count": null,
      "outputs": []
    },
    {
      "cell_type": "code",
      "source": [],
      "metadata": {
        "id": "gJ6jIikA6RQG"
      },
      "execution_count": null,
      "outputs": []
    }
  ]
}